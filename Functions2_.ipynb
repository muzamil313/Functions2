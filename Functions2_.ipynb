{
  "nbformat": 4,
  "nbformat_minor": 0,
  "metadata": {
    "colab": {
      "provenance": []
    },
    "kernelspec": {
      "name": "python3",
      "display_name": "Python 3"
    },
    "language_info": {
      "name": "python"
    }
  },
  "cells": [
    {
      "cell_type": "code",
      "execution_count": null,
      "metadata": {
        "id": "QqqklyZvIiaM"
      },
      "outputs": [],
      "source": []
    },
    {
      "cell_type": "markdown",
      "source": [
        "# Functions assignment\n"
      ],
      "metadata": {
        "id": "bmKZ16T5I7BY"
      }
    },
    {
      "cell_type": "markdown",
      "source": [
        "1. What is the difference between a function and a method in Python?\n",
        "- A function is defined independently using the def keyword and is not tied to any class.while as A method is a function defined within a class and is associated with its instances or the class itself.\n",
        "  \n",
        "2. Explain the concept of function arguments and parameters in Python.\n",
        "- parameters are variables listed inside the parentheses in a function definition.while as  argumnets are the actual values passed to the function when it is invoked.\n",
        "\n",
        "3. What are the different ways to define and call a function in Python?\n",
        "\n",
        "- The diiiferent ways to define and call function are given below\n",
        "\n",
        " Standard Function Definition\n",
        "\n",
        " Function with Default Parameters\n",
        "\n",
        " Function with Arbitrary Arguments\n",
        "\n",
        " Lambda (Anonymous) Functions\n",
        "\n",
        " Calling Functions in Python are given below:\n",
        "\n",
        " Direct Call\n",
        "\n",
        " Using Keyword Arguments\n",
        "\n",
        "  Unpacking Arguments\n",
        "\n",
        "   Calling Functions from Another Function\n",
        "\n",
        "4. What is the purpose of the `return` statement in a Python function?\n",
        "- The purpose of return statement in python are as:\n",
        "\n",
        "Terminate Function Execution\n",
        "\n",
        "Return a Value\n",
        "\n",
        "5. What are iterators in Python and how do they differ from iterables?\n",
        "- An iterator is an object that facilitates iteration over an iterable. while as An iterable is any Python object capable of returning its elements one at a time.\n",
        "6. Explain the concept of generators in Python and how they are defined.\n",
        "- A generator is a special type of function that returns an iterator object. Instead of computing and returning all values at once, a generator computes one value at a time and yields it using the yield keyword.\n",
        "7. What are the advantages of using generators over regular functions.\n",
        "-  Advantages of Using Generators\n",
        "Memory Efficiency\n",
        "\n",
        "\n",
        "Lazy Evaluation\n",
        "\n",
        "\n",
        "Simplified code\n",
        "\n",
        "Handling Infinite Sequences\n",
        "\n",
        "\n",
        "Improved Performance in Certain Scenarios\n",
        "\n",
        "8. What is a lambda function in Python and when is it typically used?\n",
        "- In Python, a lambda function is a concise way to create an anonymous function—that is, a function without a name. Lambda functions are typically used for short, simple operations that are needed temporarily, especially when passing a function as an argument to higher-order functions.\n",
        "\n",
        "9. Explain the purpose and usage of the `map()` function in Python.\n",
        "- In Python, the map() function is a built-in utility that allows you to apply a specified function to each item of an iterable (such as a list, tuple, or string), returning a new iterator with the transformed items. This approach is particularly useful for performing operations on collections without explicitly writing loops.\n",
        "\n",
        "10. What is the difference between `map()`, `reduce()`, and `filter()` functions in Python?\n",
        "- Map function applies a specified function to each item in an iterable, returning a new iterator with the transformed elements.while as  filters elements from an iterable for which a specified function returns True, returning a new iterator with the selected elements and reduce applies a specified function cumulatively to the items of an iterable, reducing the iterable to a single accumulated value.\n",
        "\n",
        "\n",
        "\n",
        "\n",
        "\n",
        "\n",
        "\n",
        "\n",
        "\n",
        ""
      ],
      "metadata": {
        "id": "MG6AYcSwJD_D"
      }
    },
    {
      "cell_type": "markdown",
      "source": [],
      "metadata": {
        "id": "izY8ogd3JDnh"
      }
    },
    {
      "cell_type": "code",
      "source": [
        "#1. Write a Python function that takes a list of numbers as input and returns the sum of all even numbers in the list.\n",
        "def sum_even_numbers(numbers):\n",
        "    sum_even = 0\n",
        "    for num in numbers:\n",
        "        if num % 2 == 0:\n",
        "            sum_even += num\n",
        "    return sum_even\n",
        "\n",
        "\n"
      ],
      "metadata": {
        "id": "QOIeg1x2JBii"
      },
      "execution_count": 52,
      "outputs": []
    },
    {
      "cell_type": "code",
      "source": [
        "\n",
        "#2. Create a Python function that accepts a string and returns the reverse of that string.\n",
        "def reverse_string(string):\n",
        "    return string[::-1]\n",
        "    string = \"pwskills\"\n",
        "    print(reverse_string(string))"
      ],
      "metadata": {
        "id": "IBpn_WxuTtAf"
      },
      "execution_count": 23,
      "outputs": []
    },
    {
      "cell_type": "code",
      "source": [
        "#3. Implement a Python function that takes a list of integers and returns a new list containing the squares of each number.\n",
        "def square_numbers(numbers):\n",
        "    squared_numbers = [num ** 2 for num in numbers]\n",
        "    return squared_numbers\n",
        "\n"
      ],
      "metadata": {
        "id": "ULhCs2XTW_Js"
      },
      "execution_count": 27,
      "outputs": []
    },
    {
      "cell_type": "code",
      "source": [
        "square_numbers([1, 2, 3, 4, 5])"
      ],
      "metadata": {
        "colab": {
          "base_uri": "https://localhost:8080/"
        },
        "id": "mAO0Vi0va2rf",
        "outputId": "5ab440da-09c3-4a35-c9f1-89eea754f6c9"
      },
      "execution_count": 28,
      "outputs": [
        {
          "output_type": "execute_result",
          "data": {
            "text/plain": [
              "[1, 4, 9, 16, 25]"
            ]
          },
          "metadata": {},
          "execution_count": 28
        }
      ]
    },
    {
      "cell_type": "code",
      "source": [
        "# 4 Write a Python function that checks if a given number is prime or not from 1 to 200.\n",
        "\n",
        " def is_prime(number):\n",
        "  if number <= 1:\n",
        "        return False\n",
        "    if number <= 3:\n",
        "        return True\n",
        "    if number % 2 == 0 or number % 3 == 0:\n",
        "        return False\n",
        "    i = 5\n",
        "    while i * i <= number:\n",
        "        if number % i == 0 or number % (i + 2) == 0:\n",
        "            return False\n",
        "        i += 6\n",
        "    return True\n",
        "\n",
        ""
      ],
      "metadata": {
        "colab": {
          "base_uri": "https://localhost:8080/",
          "height": 106
        },
        "id": "UVVR-tVDbJqK",
        "outputId": "8c1a9a7e-0391-4ec5-d159-5087ecda6415"
      },
      "execution_count": 34,
      "outputs": [
        {
          "output_type": "error",
          "ename": "IndentationError",
          "evalue": "unindent does not match any outer indentation level (<tokenize>, line 6)",
          "traceback": [
            "\u001b[0;36m  File \u001b[0;32m\"<tokenize>\"\u001b[0;36m, line \u001b[0;32m6\u001b[0m\n\u001b[0;31m    if number <= 3:\u001b[0m\n\u001b[0m    ^\u001b[0m\n\u001b[0;31mIndentationError\u001b[0m\u001b[0;31m:\u001b[0m unindent does not match any outer indentation level\n"
          ]
        }
      ]
    },
    {
      "cell_type": "code",
      "source": [
        "#5. Create an iterator class in Python that generates the Fibonacci sequence up to a specified number of terms.\n",
        "\n",
        "\n",
        "    def __init__(self, max_terms):\n",
        "        self.max_terms = max_terms\n",
        "        self.count = 0\n",
        "        self.a, self.b = 0, 1\n",
        "\n",
        "    def __iter__(self):\n",
        "        return self\n",
        "\n",
        "    def __next__(self):\n",
        "        if self.count >= self.max_terms:\n",
        "            raise StopIteration\n",
        "        if self.count == 0:\n",
        "            self.count += 1\n",
        "            return self.a\n",
        "        elif self.count == 1:\n",
        "            self.count += 1\n",
        "            return self.b\n",
        "        else:\n",
        "            next_value = self.a + self.b\n",
        "            self.a, self.b = self.b, next_value\n",
        "            self.count += 1\n",
        "            return next_value\n"
      ],
      "metadata": {
        "colab": {
          "base_uri": "https://localhost:8080/",
          "height": 106
        },
        "id": "_wjHwOi7dweW",
        "outputId": "06be94af-046c-4ca9-d6e7-f12c6a7c534f"
      },
      "execution_count": 37,
      "outputs": [
        {
          "output_type": "error",
          "ename": "IndentationError",
          "evalue": "unexpected indent (<ipython-input-37-6a8500c6eebb>, line 4)",
          "traceback": [
            "\u001b[0;36m  File \u001b[0;32m\"<ipython-input-37-6a8500c6eebb>\"\u001b[0;36m, line \u001b[0;32m4\u001b[0m\n\u001b[0;31m    def __init__(self, max_terms):\u001b[0m\n\u001b[0m    ^\u001b[0m\n\u001b[0;31mIndentationError\u001b[0m\u001b[0;31m:\u001b[0m unexpected indent\n"
          ]
        }
      ]
    },
    {
      "cell_type": "code",
      "source": [
        "#6. Write a generator function in Python that yields the powers of 2 up to a given exponent\n",
        "   def powers_of_two(max_exponent):\n",
        "    for exponent in range(max_exponent + 1):\n",
        "        yield 2 ** exponent\n",
        "        for power in powers_of_two(5):\n",
        "    print(power)\n"
      ],
      "metadata": {
        "colab": {
          "base_uri": "https://localhost:8080/",
          "height": 106
        },
        "id": "pPuMU0-CiWLV",
        "outputId": "0f724486-fc6f-4d65-b6be-e8f49d806b04"
      },
      "execution_count": 40,
      "outputs": [
        {
          "output_type": "error",
          "ename": "IndentationError",
          "evalue": "unexpected indent (<ipython-input-40-b2086010254a>, line 2)",
          "traceback": [
            "\u001b[0;36m  File \u001b[0;32m\"<ipython-input-40-b2086010254a>\"\u001b[0;36m, line \u001b[0;32m2\u001b[0m\n\u001b[0;31m    def powers_of_two(max_exponent):\u001b[0m\n\u001b[0m    ^\u001b[0m\n\u001b[0;31mIndentationError\u001b[0m\u001b[0;31m:\u001b[0m unexpected indent\n"
          ]
        }
      ]
    },
    {
      "cell_type": "code",
      "source": [],
      "metadata": {
        "id": "iInD0FT6mR8O"
      },
      "execution_count": null,
      "outputs": []
    },
    {
      "cell_type": "code",
      "source": [
        "#7. Implement a generator function that reads a file line by line and yields each line as a string.\n",
        "def generator_numbers():\n",
        "  for i in range (3):\n",
        "    yield i\n",
        "    numbers = generate_numbers()\n",
        "    for number in numbers:\n",
        "      print(number)"
      ],
      "metadata": {
        "id": "FO5lvekCnOa6"
      },
      "execution_count": 41,
      "outputs": []
    },
    {
      "cell_type": "code",
      "source": [
        "generator_numbers()"
      ],
      "metadata": {
        "colab": {
          "base_uri": "https://localhost:8080/"
        },
        "id": "Vq60Mhd2oEfE",
        "outputId": "82c18dfc-9222-4c0b-af6d-43aa709efda7"
      },
      "execution_count": 43,
      "outputs": [
        {
          "output_type": "execute_result",
          "data": {
            "text/plain": [
              "<generator object generator_numbers at 0x7f7dd82f5c60>"
            ]
          },
          "metadata": {},
          "execution_count": 43
        }
      ]
    },
    {
      "cell_type": "code",
      "source": [
        "#8. Use a lambda function in Python to sort a list of tuples based on the second element of each tuple.\n",
        "data = [('apple', 3), ('banana', 1), ('cherry', 2)]\n",
        "sorted_data = sorted(data, key=lambda x: x[1])\n",
        "print(sorted_data)"
      ],
      "metadata": {
        "colab": {
          "base_uri": "https://localhost:8080/"
        },
        "id": "-B8zo3V5oPfe",
        "outputId": "fd4b763b-f203-4c5a-d46b-1e987be2dcb0"
      },
      "execution_count": 44,
      "outputs": [
        {
          "output_type": "stream",
          "name": "stdout",
          "text": [
            "[('banana', 1), ('cherry', 2), ('apple', 3)]\n"
          ]
        }
      ]
    },
    {
      "cell_type": "code",
      "source": [
        "#9. Write a Python program that uses `map()` to convert a list of temperatures from Celsius to Fahrenheit.\n",
        "def celsius_to_fahrenheit(celsius):\n",
        "    return (celsius * 9/5) + 32"
      ],
      "metadata": {
        "id": "nubAsYg5oscC"
      },
      "execution_count": 45,
      "outputs": []
    },
    {
      "cell_type": "code",
      "source": [
        "celsius_to_fahrenheit(300)"
      ],
      "metadata": {
        "colab": {
          "base_uri": "https://localhost:8080/"
        },
        "id": "WuOSEZFJo3Sc",
        "outputId": "f6acfd5c-96fb-48b2-8071-f7c0b7d249df"
      },
      "execution_count": 46,
      "outputs": [
        {
          "output_type": "execute_result",
          "data": {
            "text/plain": [
              "572.0"
            ]
          },
          "metadata": {},
          "execution_count": 46
        }
      ]
    },
    {
      "cell_type": "code",
      "source": [
        "#10. Create a Python program that uses `filter()` to remove all the vowels from a given string.\n",
        "def remove_vowels(string):\n",
        "    vowels = 'aeiouAEIOU'\n",
        "    filtered_string = ''.join(filter(lambda char: char not in vowels, string))\n",
        "    return filtered_string"
      ],
      "metadata": {
        "id": "uddm-G5xo9MQ"
      },
      "execution_count": 47,
      "outputs": []
    },
    {
      "cell_type": "code",
      "source": [
        "remove_vowels(\"pwskills\")"
      ],
      "metadata": {
        "colab": {
          "base_uri": "https://localhost:8080/",
          "height": 35
        },
        "id": "m_e87fUTpHa5",
        "outputId": "e0af689b-a2bc-4ec7-cebb-44f795e238ba"
      },
      "execution_count": 48,
      "outputs": [
        {
          "output_type": "execute_result",
          "data": {
            "text/plain": [
              "'pwsklls'"
            ],
            "application/vnd.google.colaboratory.intrinsic+json": {
              "type": "string"
            }
          },
          "metadata": {},
          "execution_count": 48
        }
      ]
    },
    {
      "cell_type": "code",
      "source": [
        "remove_vowels(\"datascience\")"
      ],
      "metadata": {
        "colab": {
          "base_uri": "https://localhost:8080/",
          "height": 35
        },
        "id": "8LRiM5WepN_4",
        "outputId": "c75beb57-7c58-4113-c9d0-6bf64d9b6c65"
      },
      "execution_count": 49,
      "outputs": [
        {
          "output_type": "execute_result",
          "data": {
            "text/plain": [
              "'dtscnc'"
            ],
            "application/vnd.google.colaboratory.intrinsic+json": {
              "type": "string"
            }
          },
          "metadata": {},
          "execution_count": 49
        }
      ]
    },
    {
      "cell_type": "code",
      "source": [],
      "metadata": {
        "id": "hsZ6cEZopWuz"
      },
      "execution_count": null,
      "outputs": []
    }
  ]
}